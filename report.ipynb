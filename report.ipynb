{
 "cells": [
  {
   "cell_type": "markdown",
   "metadata": {},
   "source": [
    "# Анализ matchmaking system в игре ClashRoyale"
   ]
  },
  {
   "cell_type": "code",
   "execution_count": 2,
   "metadata": {},
   "outputs": [],
   "source": [
    "from pymongo import MongoClient\n",
    "import pandas as pd\n",
    "import numpy as np\n",
    "import matplotlib.pyplot as plt\n",
    "\n",
    "from scipy import stats\n",
    "from statsmodels.stats.descriptivestats import sign_test\n",
    "from statsmodels.stats.weightstats import zconfint\n",
    "from statsmodels.stats.weightstats import *"
   ]
  },
  {
   "cell_type": "markdown",
   "metadata": {},
   "source": [
    "Данные о боях загружаются из базы данных (MongoDB)"
   ]
  },
  {
   "cell_type": "code",
   "execution_count": 2,
   "metadata": {},
   "outputs": [],
   "source": [
    "client = MongoClient('localhost', 27017)"
   ]
  },
  {
   "cell_type": "code",
   "execution_count": 3,
   "metadata": {},
   "outputs": [],
   "source": [
    "db = client[\"clashroyale\"]"
   ]
  },
  {
   "cell_type": "code",
   "execution_count": 4,
   "metadata": {},
   "outputs": [],
   "source": [
    "battle_log = db[\"battlelog\"]"
   ]
  },
  {
   "cell_type": "code",
   "execution_count": 23,
   "metadata": {},
   "outputs": [],
   "source": [
    "battle = next(battle_log.find({}).sort(\"createdDate\", -1))"
   ]
  },
  {
   "cell_type": "markdown",
   "metadata": {},
   "source": [
    "### 1. Формирование датасета боёв."
   ]
  },
  {
   "cell_type": "code",
   "execution_count": 24,
   "metadata": {},
   "outputs": [],
   "source": [
    "battle_list = []\n",
    "for b in battle_log.find({}):\n",
    "    battle_list.append([\n",
    "        b['type'], b['battleTime'][0:8], b['deckSelection'], b['team'][0]['tag'], b['team'][0]['name'],\n",
    "        b['team'][0]['startingTrophies'], b['team'][0]['crowns'], \n",
    "        b['opponent'][0]['tag'],\n",
    "        b['opponent'][0]['name'], b['opponent'][0]['startingTrophies'], b['opponent'][0]['crowns']\n",
    "        ])"
   ]
  },
  {
   "cell_type": "code",
   "execution_count": 25,
   "metadata": {},
   "outputs": [],
   "source": [
    "data_battle = pd.DataFrame(battle_list, columns=['type', 'battleTime', 'deckSelection', 'player_tag', 'player_name',\n",
    "                                                 'player_startingTrophies', 'player_crowns', \n",
    "                                                 'opponent_tag', 'opponent_name',\n",
    "                                                 'opponent_startingTrophies', 'opponent_crowns'\n",
    "                                                 ])"
   ]
  },
  {
   "cell_type": "code",
   "execution_count": 26,
   "metadata": {},
   "outputs": [
    {
     "data": {
      "text/html": [
       "<div>\n",
       "<style scoped>\n",
       "    .dataframe tbody tr th:only-of-type {\n",
       "        vertical-align: middle;\n",
       "    }\n",
       "\n",
       "    .dataframe tbody tr th {\n",
       "        vertical-align: top;\n",
       "    }\n",
       "\n",
       "    .dataframe thead th {\n",
       "        text-align: right;\n",
       "    }\n",
       "</style>\n",
       "<table border=\"1\" class=\"dataframe\">\n",
       "  <thead>\n",
       "    <tr style=\"text-align: right;\">\n",
       "      <th></th>\n",
       "      <th>type</th>\n",
       "      <th>battleTime</th>\n",
       "      <th>deckSelection</th>\n",
       "      <th>player_tag</th>\n",
       "      <th>player_name</th>\n",
       "      <th>player_startingTrophies</th>\n",
       "      <th>player_crowns</th>\n",
       "      <th>opponent_tag</th>\n",
       "      <th>opponent_name</th>\n",
       "      <th>opponent_startingTrophies</th>\n",
       "      <th>opponent_crowns</th>\n",
       "    </tr>\n",
       "  </thead>\n",
       "  <tbody>\n",
       "    <tr>\n",
       "      <th>2154</th>\n",
       "      <td>clanWarWarDay</td>\n",
       "      <td>20200309</td>\n",
       "      <td>collection</td>\n",
       "      <td>#8RPGUJQ9U</td>\n",
       "      <td>Alpen Gold</td>\n",
       "      <td>5169</td>\n",
       "      <td>1</td>\n",
       "      <td>#2VC080VVV</td>\n",
       "      <td>Davidp</td>\n",
       "      <td>4918</td>\n",
       "      <td>2</td>\n",
       "    </tr>\n",
       "    <tr>\n",
       "      <th>96</th>\n",
       "      <td>clanWarCollectionDay</td>\n",
       "      <td>20200325</td>\n",
       "      <td>collection</td>\n",
       "      <td>#9YGYGVPY</td>\n",
       "      <td>Внук_Светличной</td>\n",
       "      <td>5842</td>\n",
       "      <td>0</td>\n",
       "      <td>#VLRR9RU0</td>\n",
       "      <td>简简陌</td>\n",
       "      <td>5713</td>\n",
       "      <td>1</td>\n",
       "    </tr>\n",
       "    <tr>\n",
       "      <th>2145</th>\n",
       "      <td>clanWarWarDay</td>\n",
       "      <td>20200326</td>\n",
       "      <td>collection</td>\n",
       "      <td>#9YGYGVPY</td>\n",
       "      <td>Внук_Светличной</td>\n",
       "      <td>5842</td>\n",
       "      <td>3</td>\n",
       "      <td>#Q0RV2P2Q</td>\n",
       "      <td>冰雨</td>\n",
       "      <td>5706</td>\n",
       "      <td>1</td>\n",
       "    </tr>\n",
       "    <tr>\n",
       "      <th>2144</th>\n",
       "      <td>clanWarCollectionDay</td>\n",
       "      <td>20200329</td>\n",
       "      <td>draft</td>\n",
       "      <td>#9YGYGVPY</td>\n",
       "      <td>Внук_Светличной</td>\n",
       "      <td>5842</td>\n",
       "      <td>1</td>\n",
       "      <td>#8YCV2QQ88</td>\n",
       "      <td>БАЛДЬОЖ</td>\n",
       "      <td>5668</td>\n",
       "      <td>2</td>\n",
       "    </tr>\n",
       "    <tr>\n",
       "      <th>95</th>\n",
       "      <td>clanWarCollectionDay</td>\n",
       "      <td>20200329</td>\n",
       "      <td>collection</td>\n",
       "      <td>#9YGYGVPY</td>\n",
       "      <td>Внук_Светличной</td>\n",
       "      <td>5842</td>\n",
       "      <td>0</td>\n",
       "      <td>#89JG8VUP</td>\n",
       "      <td>Cap Nascimento</td>\n",
       "      <td>5510</td>\n",
       "      <td>1</td>\n",
       "    </tr>\n",
       "  </tbody>\n",
       "</table>\n",
       "</div>"
      ],
      "text/plain": [
       "                      type battleTime deckSelection  player_tag  \\\n",
       "2154         clanWarWarDay   20200309    collection  #8RPGUJQ9U   \n",
       "96    clanWarCollectionDay   20200325    collection   #9YGYGVPY   \n",
       "2145         clanWarWarDay   20200326    collection   #9YGYGVPY   \n",
       "2144  clanWarCollectionDay   20200329         draft   #9YGYGVPY   \n",
       "95    clanWarCollectionDay   20200329    collection   #9YGYGVPY   \n",
       "\n",
       "          player_name  player_startingTrophies  player_crowns opponent_tag  \\\n",
       "2154       Alpen Gold                     5169              1   #2VC080VVV   \n",
       "96    Внук_Светличной                     5842              0    #VLRR9RU0   \n",
       "2145  Внук_Светличной                     5842              3    #Q0RV2P2Q   \n",
       "2144  Внук_Светличной                     5842              1   #8YCV2QQ88   \n",
       "95    Внук_Светличной                     5842              0    #89JG8VUP   \n",
       "\n",
       "       opponent_name  opponent_startingTrophies  opponent_crowns  \n",
       "2154          Davidp                       4918                2  \n",
       "96               简简陌                       5713                1  \n",
       "2145              冰雨                       5706                1  \n",
       "2144         БАЛДЬОЖ                       5668                2  \n",
       "95    Cap Nascimento                       5510                1  "
      ]
     },
     "execution_count": 26,
     "metadata": {},
     "output_type": "execute_result"
    }
   ],
   "source": [
    "data_battle = data_battle.sort_values(by=['battleTime'])\n",
    "data_battle = data_battle.loc[data_battle['opponent_tag'] != '#82P028G08']   # по игроку нет статистики\n",
    "data_battle = data_battle.loc[data_battle['opponent_tag'] != '#9PQUY0Q8P']   # по игроку нет статистики\n",
    "data_battle.head()"
   ]
  },
  {
   "cell_type": "code",
   "execution_count": 27,
   "metadata": {},
   "outputs": [
    {
     "name": "stdout",
     "output_type": "stream",
     "text": [
      "data_battle.shape = (4057, 11)\n",
      "количество игроков (nunique player) = 75\n",
      "количество оппонентов (nunique opponent) = 4012\n"
     ]
    }
   ],
   "source": [
    "print('data_battle.shape =', data_battle.shape)\n",
    "print('количество игроков (nunique player) =', data_battle.player_tag.nunique())\n",
    "print('количество оппонентов (nunique opponent) =', data_battle.opponent_tag.nunique())"
   ]
  },
  {
   "cell_type": "markdown",
   "metadata": {},
   "source": [
    "Разделим датасет на бои в первый (collection) и второй (war) дни клановых войн."
   ]
  },
  {
   "cell_type": "code",
   "execution_count": 29,
   "metadata": {},
   "outputs": [],
   "source": [
    "data_battle_collection = data_battle[data_battle.type == 'clanWarCollectionDay']\n",
    "data_battle_war = data_battle[data_battle.type == 'clanWarWarDay']"
   ]
  },
  {
   "cell_type": "code",
   "execution_count": 31,
   "metadata": {},
   "outputs": [
    {
     "name": "stdout",
     "output_type": "stream",
     "text": [
      "общее количество игроков и оппонентов = 4087\n"
     ]
    }
   ],
   "source": [
    "# общий список tag игроков и оппонентов\n",
    "all_players = pd.concat([data_battle.player_tag, data_battle.opponent_tag]).drop_duplicates().to_list()\n",
    "print('общее количество игроков и оппонентов =', len(all_players))"
   ]
  },
  {
   "cell_type": "markdown",
   "metadata": {},
   "source": [
    "### 2. Загрузка статистики игроков с clash api."
   ]
  },
  {
   "cell_type": "code",
   "execution_count": 3,
   "metadata": {},
   "outputs": [],
   "source": [
    "# загружаем статистику по 4087 игрокам предварительно загруженную с https://api.clashroyale.com\n",
    "data_players = pd.read_csv('data_players')"
   ]
  },
  {
   "cell_type": "code",
   "execution_count": 38,
   "metadata": {},
   "outputs": [
    {
     "data": {
      "text/html": [
       "<div>\n",
       "<style scoped>\n",
       "    .dataframe tbody tr th:only-of-type {\n",
       "        vertical-align: middle;\n",
       "    }\n",
       "\n",
       "    .dataframe tbody tr th {\n",
       "        vertical-align: top;\n",
       "    }\n",
       "\n",
       "    .dataframe thead th {\n",
       "        text-align: right;\n",
       "    }\n",
       "</style>\n",
       "<table border=\"1\" class=\"dataframe\">\n",
       "  <thead>\n",
       "    <tr style=\"text-align: right;\">\n",
       "      <th></th>\n",
       "      <th>tag</th>\n",
       "      <th>name</th>\n",
       "      <th>expLevel</th>\n",
       "      <th>trophies</th>\n",
       "      <th>bestTrophies</th>\n",
       "      <th>wins</th>\n",
       "      <th>losses</th>\n",
       "      <th>battleCount</th>\n",
       "      <th>threeCrownWins</th>\n",
       "      <th>challengeCardsWon</th>\n",
       "      <th>...</th>\n",
       "      <th>tournamentCardsWon</th>\n",
       "      <th>tournamentBattleCount</th>\n",
       "      <th>donations</th>\n",
       "      <th>donationsReceived</th>\n",
       "      <th>totalDonations</th>\n",
       "      <th>warDayWins</th>\n",
       "      <th>clanCardsCollected</th>\n",
       "      <th>games</th>\n",
       "      <th>win_rate</th>\n",
       "      <th>win_game_rate</th>\n",
       "    </tr>\n",
       "  </thead>\n",
       "  <tbody>\n",
       "    <tr>\n",
       "      <th>0</th>\n",
       "      <td>#8RPGUJQ9U</td>\n",
       "      <td>Alpen Gold</td>\n",
       "      <td>12</td>\n",
       "      <td>4632</td>\n",
       "      <td>5622</td>\n",
       "      <td>2288</td>\n",
       "      <td>1930</td>\n",
       "      <td>9350</td>\n",
       "      <td>1890</td>\n",
       "      <td>1603</td>\n",
       "      <td>...</td>\n",
       "      <td>0</td>\n",
       "      <td>168</td>\n",
       "      <td>0</td>\n",
       "      <td>0</td>\n",
       "      <td>57320</td>\n",
       "      <td>44</td>\n",
       "      <td>156878</td>\n",
       "      <td>4218</td>\n",
       "      <td>1.185492</td>\n",
       "      <td>0.542437</td>\n",
       "    </tr>\n",
       "    <tr>\n",
       "      <th>1</th>\n",
       "      <td>#9YGYGVPY</td>\n",
       "      <td>Внук_Светличной</td>\n",
       "      <td>12</td>\n",
       "      <td>4389</td>\n",
       "      <td>6321</td>\n",
       "      <td>6499</td>\n",
       "      <td>7432</td>\n",
       "      <td>14987</td>\n",
       "      <td>3095</td>\n",
       "      <td>5077</td>\n",
       "      <td>...</td>\n",
       "      <td>615</td>\n",
       "      <td>1268</td>\n",
       "      <td>8</td>\n",
       "      <td>80</td>\n",
       "      <td>38175</td>\n",
       "      <td>49</td>\n",
       "      <td>237001</td>\n",
       "      <td>13931</td>\n",
       "      <td>0.874462</td>\n",
       "      <td>0.466514</td>\n",
       "    </tr>\n",
       "    <tr>\n",
       "      <th>2</th>\n",
       "      <td>#288G2Q2</td>\n",
       "      <td>Виталий</td>\n",
       "      <td>13</td>\n",
       "      <td>4393</td>\n",
       "      <td>6023</td>\n",
       "      <td>3341</td>\n",
       "      <td>2244</td>\n",
       "      <td>9436</td>\n",
       "      <td>1278</td>\n",
       "      <td>9370</td>\n",
       "      <td>...</td>\n",
       "      <td>90</td>\n",
       "      <td>280</td>\n",
       "      <td>0</td>\n",
       "      <td>0</td>\n",
       "      <td>94669</td>\n",
       "      <td>82</td>\n",
       "      <td>234346</td>\n",
       "      <td>5585</td>\n",
       "      <td>1.488859</td>\n",
       "      <td>0.598209</td>\n",
       "    </tr>\n",
       "    <tr>\n",
       "      <th>3</th>\n",
       "      <td>#8R220QUYV</td>\n",
       "      <td>Kegla</td>\n",
       "      <td>12</td>\n",
       "      <td>5201</td>\n",
       "      <td>5650</td>\n",
       "      <td>1957</td>\n",
       "      <td>935</td>\n",
       "      <td>10951</td>\n",
       "      <td>3038</td>\n",
       "      <td>2497</td>\n",
       "      <td>...</td>\n",
       "      <td>0</td>\n",
       "      <td>273</td>\n",
       "      <td>30</td>\n",
       "      <td>120</td>\n",
       "      <td>19184</td>\n",
       "      <td>209</td>\n",
       "      <td>581883</td>\n",
       "      <td>2892</td>\n",
       "      <td>2.093048</td>\n",
       "      <td>0.676694</td>\n",
       "    </tr>\n",
       "    <tr>\n",
       "      <th>4</th>\n",
       "      <td>#P0JQCQGU8</td>\n",
       "      <td>Eeee boy</td>\n",
       "      <td>10</td>\n",
       "      <td>4000</td>\n",
       "      <td>5317</td>\n",
       "      <td>645</td>\n",
       "      <td>369</td>\n",
       "      <td>1242</td>\n",
       "      <td>213</td>\n",
       "      <td>1297</td>\n",
       "      <td>...</td>\n",
       "      <td>4</td>\n",
       "      <td>42</td>\n",
       "      <td>30</td>\n",
       "      <td>40</td>\n",
       "      <td>6093</td>\n",
       "      <td>23</td>\n",
       "      <td>31200</td>\n",
       "      <td>1014</td>\n",
       "      <td>1.747967</td>\n",
       "      <td>0.636095</td>\n",
       "    </tr>\n",
       "  </tbody>\n",
       "</table>\n",
       "<p>5 rows × 21 columns</p>\n",
       "</div>"
      ],
      "text/plain": [
       "          tag             name  expLevel  trophies  bestTrophies  wins  \\\n",
       "0  #8RPGUJQ9U       Alpen Gold        12      4632          5622  2288   \n",
       "1   #9YGYGVPY  Внук_Светличной        12      4389          6321  6499   \n",
       "2    #288G2Q2          Виталий        13      4393          6023  3341   \n",
       "3  #8R220QUYV            Kegla        12      5201          5650  1957   \n",
       "4  #P0JQCQGU8         Eeee boy        10      4000          5317   645   \n",
       "\n",
       "   losses  battleCount  threeCrownWins  challengeCardsWon  ...  \\\n",
       "0    1930         9350            1890               1603  ...   \n",
       "1    7432        14987            3095               5077  ...   \n",
       "2    2244         9436            1278               9370  ...   \n",
       "3     935        10951            3038               2497  ...   \n",
       "4     369         1242             213               1297  ...   \n",
       "\n",
       "   tournamentCardsWon  tournamentBattleCount  donations  donationsReceived  \\\n",
       "0                   0                    168          0                  0   \n",
       "1                 615                   1268          8                 80   \n",
       "2                  90                    280          0                  0   \n",
       "3                   0                    273         30                120   \n",
       "4                   4                     42         30                 40   \n",
       "\n",
       "   totalDonations  warDayWins  clanCardsCollected  games  win_rate  \\\n",
       "0           57320          44              156878   4218  1.185492   \n",
       "1           38175          49              237001  13931  0.874462   \n",
       "2           94669          82              234346   5585  1.488859   \n",
       "3           19184         209              581883   2892  2.093048   \n",
       "4            6093          23               31200   1014  1.747967   \n",
       "\n",
       "   win_game_rate  \n",
       "0       0.542437  \n",
       "1       0.466514  \n",
       "2       0.598209  \n",
       "3       0.676694  \n",
       "4       0.636095  \n",
       "\n",
       "[5 rows x 21 columns]"
      ]
     },
     "execution_count": 38,
     "metadata": {},
     "output_type": "execute_result"
    }
   ],
   "source": [
    "data_players.head()"
   ]
  },
  {
   "cell_type": "markdown",
   "metadata": {},
   "source": [
    "По наблюдению игроков наиболее значимым параметром для определения победителя является bestTrophies, проверим есть ли зависимость между соотношением bestTrophies игрока и оппонетна и исходом битвы на самом деле. Для этого проанализируем зависимость разницы bestTrophies и crowns. Crowns это по сути счёт \"игры\" и большее преимущество одного игрока над другим в crowns должно вытекать из большего преимущества в bestTrophies."
   ]
  },
  {
   "cell_type": "markdown",
   "metadata": {},
   "source": [
    "### 3. Начнём с первого дня (collection day) besrTrophies - crowns collection day"
   ]
  },
  {
   "cell_type": "code",
   "execution_count": 48,
   "metadata": {},
   "outputs": [],
   "source": [
    "# отберём нужные нам столбцы из data_battle_collection\n",
    "data_besrTrophies_crowns = data_battle_collection[['battleTime', 'player_tag', 'player_name', 'player_crowns',\n",
    "                                                  'opponent_tag', 'opponent_name', 'opponent_crowns']]"
   ]
  },
  {
   "cell_type": "code",
   "execution_count": 49,
   "metadata": {},
   "outputs": [],
   "source": [
    "# функция возвращает bestTrophies из data_players по tag\n",
    "def get_bestTrophies(tag):\n",
    "    return data_players.bestTrophies[data_players.tag == tag].to_list()[0]"
   ]
  },
  {
   "cell_type": "code",
   "execution_count": 50,
   "metadata": {},
   "outputs": [
    {
     "name": "stderr",
     "output_type": "stream",
     "text": [
      "<ipython-input-50-314a2f6edd0e>:2: SettingWithCopyWarning: \n",
      "A value is trying to be set on a copy of a slice from a DataFrame.\n",
      "Try using .loc[row_indexer,col_indexer] = value instead\n",
      "\n",
      "See the caveats in the documentation: https://pandas.pydata.org/pandas-docs/stable/user_guide/indexing.html#returning-a-view-versus-a-copy\n",
      "  data_besrTrophies_crowns['player_bestTrophies'] = data_besrTrophies_crowns.player_tag.apply(lambda x: get_bestTrophies(x))\n",
      "<ipython-input-50-314a2f6edd0e>:3: SettingWithCopyWarning: \n",
      "A value is trying to be set on a copy of a slice from a DataFrame.\n",
      "Try using .loc[row_indexer,col_indexer] = value instead\n",
      "\n",
      "See the caveats in the documentation: https://pandas.pydata.org/pandas-docs/stable/user_guide/indexing.html#returning-a-view-versus-a-copy\n",
      "  data_besrTrophies_crowns['opponent_bestTrophies'] = data_besrTrophies_crowns.opponent_tag.apply(lambda x: get_bestTrophies(x))\n"
     ]
    }
   ],
   "source": [
    "# дополним data_besrTrophies_crowns данными о bestTrophies игроков и их оппонентов\n",
    "data_besrTrophies_crowns['player_bestTrophies'] = data_besrTrophies_crowns.player_tag.apply(lambda x: get_bestTrophies(x))\n",
    "data_besrTrophies_crowns['opponent_bestTrophies'] = data_besrTrophies_crowns.opponent_tag.apply(lambda x: get_bestTrophies(x))"
   ]
  },
  {
   "cell_type": "code",
   "execution_count": 51,
   "metadata": {},
   "outputs": [
    {
     "name": "stderr",
     "output_type": "stream",
     "text": [
      "<ipython-input-51-ab4fae0709d0>:2: SettingWithCopyWarning: \n",
      "A value is trying to be set on a copy of a slice from a DataFrame.\n",
      "Try using .loc[row_indexer,col_indexer] = value instead\n",
      "\n",
      "See the caveats in the documentation: https://pandas.pydata.org/pandas-docs/stable/user_guide/indexing.html#returning-a-view-versus-a-copy\n",
      "  data_besrTrophies_crowns['diff_bestTrophies'] = data_besrTrophies_crowns['player_bestTrophies'] \\\n"
     ]
    }
   ],
   "source": [
    "# рассчитаем разницу bestTrophies (diff_bestTrophies) и crowns (diff_crowns) игроков и их оппонетнов\n",
    "data_besrTrophies_crowns['diff_bestTrophies'] = data_besrTrophies_crowns['player_bestTrophies'] \\\n",
    "                                                - data_besrTrophies_crowns['opponent_bestTrophies']\n",
    "data_besrTrophies_crowns['diff_crowns'] = data_besrTrophies_crowns['player_crowns'] \\\n",
    "                                                - data_besrTrophies_crowns['opponent_crowns']"
   ]
  },
  {
   "cell_type": "code",
   "execution_count": 52,
   "metadata": {},
   "outputs": [
    {
     "data": {
      "text/html": [
       "<div>\n",
       "<style scoped>\n",
       "    .dataframe tbody tr th:only-of-type {\n",
       "        vertical-align: middle;\n",
       "    }\n",
       "\n",
       "    .dataframe tbody tr th {\n",
       "        vertical-align: top;\n",
       "    }\n",
       "\n",
       "    .dataframe thead th {\n",
       "        text-align: right;\n",
       "    }\n",
       "</style>\n",
       "<table border=\"1\" class=\"dataframe\">\n",
       "  <thead>\n",
       "    <tr style=\"text-align: right;\">\n",
       "      <th></th>\n",
       "      <th>battleTime</th>\n",
       "      <th>player_tag</th>\n",
       "      <th>player_name</th>\n",
       "      <th>player_crowns</th>\n",
       "      <th>opponent_tag</th>\n",
       "      <th>opponent_name</th>\n",
       "      <th>opponent_crowns</th>\n",
       "      <th>player_bestTrophies</th>\n",
       "      <th>opponent_bestTrophies</th>\n",
       "      <th>diff_bestTrophies</th>\n",
       "      <th>diff_crowns</th>\n",
       "    </tr>\n",
       "  </thead>\n",
       "  <tbody>\n",
       "    <tr>\n",
       "      <th>96</th>\n",
       "      <td>20200325</td>\n",
       "      <td>#9YGYGVPY</td>\n",
       "      <td>Внук_Светличной</td>\n",
       "      <td>0</td>\n",
       "      <td>#VLRR9RU0</td>\n",
       "      <td>简简陌</td>\n",
       "      <td>1</td>\n",
       "      <td>6321</td>\n",
       "      <td>6008</td>\n",
       "      <td>313</td>\n",
       "      <td>-1</td>\n",
       "    </tr>\n",
       "    <tr>\n",
       "      <th>2144</th>\n",
       "      <td>20200329</td>\n",
       "      <td>#9YGYGVPY</td>\n",
       "      <td>Внук_Светличной</td>\n",
       "      <td>1</td>\n",
       "      <td>#8YCV2QQ88</td>\n",
       "      <td>БАЛДЬОЖ</td>\n",
       "      <td>2</td>\n",
       "      <td>6321</td>\n",
       "      <td>5809</td>\n",
       "      <td>512</td>\n",
       "      <td>-1</td>\n",
       "    </tr>\n",
       "    <tr>\n",
       "      <th>95</th>\n",
       "      <td>20200329</td>\n",
       "      <td>#9YGYGVPY</td>\n",
       "      <td>Внук_Светличной</td>\n",
       "      <td>0</td>\n",
       "      <td>#89JG8VUP</td>\n",
       "      <td>Cap Nascimento</td>\n",
       "      <td>1</td>\n",
       "      <td>6321</td>\n",
       "      <td>5772</td>\n",
       "      <td>549</td>\n",
       "      <td>-1</td>\n",
       "    </tr>\n",
       "    <tr>\n",
       "      <th>94</th>\n",
       "      <td>20200329</td>\n",
       "      <td>#9YGYGVPY</td>\n",
       "      <td>Внук_Светличной</td>\n",
       "      <td>0</td>\n",
       "      <td>#9RVG9U2VV</td>\n",
       "      <td>TYSON FURY</td>\n",
       "      <td>1</td>\n",
       "      <td>6321</td>\n",
       "      <td>5966</td>\n",
       "      <td>355</td>\n",
       "      <td>-1</td>\n",
       "    </tr>\n",
       "    <tr>\n",
       "      <th>93</th>\n",
       "      <td>20200331</td>\n",
       "      <td>#9YGYGVPY</td>\n",
       "      <td>Внук_Светличной</td>\n",
       "      <td>0</td>\n",
       "      <td>#80UP9R9V</td>\n",
       "      <td>io resto a casa</td>\n",
       "      <td>3</td>\n",
       "      <td>6321</td>\n",
       "      <td>5913</td>\n",
       "      <td>408</td>\n",
       "      <td>-3</td>\n",
       "    </tr>\n",
       "  </tbody>\n",
       "</table>\n",
       "</div>"
      ],
      "text/plain": [
       "     battleTime player_tag      player_name  player_crowns opponent_tag  \\\n",
       "96     20200325  #9YGYGVPY  Внук_Светличной              0    #VLRR9RU0   \n",
       "2144   20200329  #9YGYGVPY  Внук_Светличной              1   #8YCV2QQ88   \n",
       "95     20200329  #9YGYGVPY  Внук_Светличной              0    #89JG8VUP   \n",
       "94     20200329  #9YGYGVPY  Внук_Светличной              0   #9RVG9U2VV   \n",
       "93     20200331  #9YGYGVPY  Внук_Светличной              0    #80UP9R9V   \n",
       "\n",
       "        opponent_name  opponent_crowns  player_bestTrophies  \\\n",
       "96                简简陌                1                 6321   \n",
       "2144          БАЛДЬОЖ                2                 6321   \n",
       "95     Cap Nascimento                1                 6321   \n",
       "94         TYSON FURY                1                 6321   \n",
       "93    io resto a casa                3                 6321   \n",
       "\n",
       "      opponent_bestTrophies  diff_bestTrophies  diff_crowns  \n",
       "96                     6008                313           -1  \n",
       "2144                   5809                512           -1  \n",
       "95                     5772                549           -1  \n",
       "94                     5966                355           -1  \n",
       "93                     5913                408           -3  "
      ]
     },
     "execution_count": 52,
     "metadata": {},
     "output_type": "execute_result"
    }
   ],
   "source": [
    "data_besrTrophies_crowns.head()"
   ]
  },
  {
   "cell_type": "code",
   "execution_count": 53,
   "metadata": {},
   "outputs": [
    {
     "data": {
      "image/png": "[encoded data removed]",
      "text/plain": [
       "<Figure size 1080x720 with 1 Axes>"
      ]
     },
     "metadata": {
      "needs_background": "light"
     },
     "output_type": "display_data"
    }
   ],
   "source": [
    "plt.figure(figsize=(15,10))\n",
    "plt.scatter(data_besrTrophies_crowns.diff_bestTrophies, data_besrTrophies_crowns.diff_crowns)\n",
    "plt.title('crowns - besrTrophies')\n",
    "plt.grid()"
   ]
  },
  {
   "cell_type": "markdown",
   "metadata": {},
   "source": [
    "Какой-либо зависимости не наблюдается. Среднее значение diff_bestTrophies близко в нулю не зависимо от diff_crowns."
   ]
  },
  {
   "cell_type": "markdown",
   "metadata": {},
   "source": [
    "### 4. Рассмотрим второй день (war day) bestTrophies - crowns war day"
   ]
  },
  {
   "cell_type": "markdown",
   "metadata": {},
   "source": [
    "данные подготовим по аналогии с collection day"
   ]
  },
  {
   "cell_type": "code",
   "execution_count": 54,
   "metadata": {},
   "outputs": [],
   "source": [
    "# отберём нужные нам столбцы из data_battle_collection\n",
    "data_besrTrophies_crowns_war = data_battle_war[['battleTime', 'player_tag', 'player_name', 'player_crowns',\n",
    "                                                  'opponent_tag', 'opponent_name', 'opponent_crowns']]"
   ]
  },
  {
   "cell_type": "code",
   "execution_count": 56,
   "metadata": {},
   "outputs": [
    {
     "name": "stderr",
     "output_type": "stream",
     "text": [
      "<ipython-input-56-09411ed32314>:2: SettingWithCopyWarning: \n",
      "A value is trying to be set on a copy of a slice from a DataFrame.\n",
      "Try using .loc[row_indexer,col_indexer] = value instead\n",
      "\n",
      "See the caveats in the documentation: https://pandas.pydata.org/pandas-docs/stable/user_guide/indexing.html#returning-a-view-versus-a-copy\n",
      "  data_besrTrophies_crowns_war['player_bestTrophies'] = data_besrTrophies_crowns_war.player_tag.apply(lambda x:\n",
      "<ipython-input-56-09411ed32314>:4: SettingWithCopyWarning: \n",
      "A value is trying to be set on a copy of a slice from a DataFrame.\n",
      "Try using .loc[row_indexer,col_indexer] = value instead\n",
      "\n",
      "See the caveats in the documentation: https://pandas.pydata.org/pandas-docs/stable/user_guide/indexing.html#returning-a-view-versus-a-copy\n",
      "  data_besrTrophies_crowns_war['opponent_bestTrophies'] = data_besrTrophies_crowns_war.opponent_tag.apply(lambda x:\n"
     ]
    }
   ],
   "source": [
    "# дополним data_besrTrophies_crowns данными о bestTrophies игроков и их оппонентов\n",
    "data_besrTrophies_crowns_war['player_bestTrophies'] = data_besrTrophies_crowns_war.player_tag.apply(lambda x: \n",
    "                                                                                                    get_bestTrophies(x))\n",
    "data_besrTrophies_crowns_war['opponent_bestTrophies'] = data_besrTrophies_crowns_war.opponent_tag.apply(lambda x: \n",
    "                                                                                                        get_bestTrophies(x))"
   ]
  },
  {
   "cell_type": "code",
   "execution_count": 57,
   "metadata": {},
   "outputs": [
    {
     "name": "stderr",
     "output_type": "stream",
     "text": [
      "<ipython-input-57-d49271d3d253>:2: SettingWithCopyWarning: \n",
      "A value is trying to be set on a copy of a slice from a DataFrame.\n",
      "Try using .loc[row_indexer,col_indexer] = value instead\n",
      "\n",
      "See the caveats in the documentation: https://pandas.pydata.org/pandas-docs/stable/user_guide/indexing.html#returning-a-view-versus-a-copy\n",
      "  data_besrTrophies_crowns_war['diff_bestTrophies'] = data_besrTrophies_crowns_war['player_bestTrophies'] \\\n"
     ]
    }
   ],
   "source": [
    "# рассчитаем разницу bestTrophies (diff_bestTrophies) и crowns (diff_crowns) игроков и их оппонетнов\n",
    "data_besrTrophies_crowns_war['diff_bestTrophies'] = data_besrTrophies_crowns_war['player_bestTrophies'] \\\n",
    "                                                - data_besrTrophies_crowns_war['opponent_bestTrophies']\n",
    "data_besrTrophies_crowns_war['diff_crowns'] = data_besrTrophies_crowns_war['player_crowns'] \\\n",
    "                                                - data_besrTrophies_crowns_war['opponent_crowns']"
   ]
  },
  {
   "cell_type": "code",
   "execution_count": 58,
   "metadata": {},
   "outputs": [
    {
     "data": {
      "text/html": [
       "<div>\n",
       "<style scoped>\n",
       "    .dataframe tbody tr th:only-of-type {\n",
       "        vertical-align: middle;\n",
       "    }\n",
       "\n",
       "    .dataframe tbody tr th {\n",
       "        vertical-align: top;\n",
       "    }\n",
       "\n",
       "    .dataframe thead th {\n",
       "        text-align: right;\n",
       "    }\n",
       "</style>\n",
       "<table border=\"1\" class=\"dataframe\">\n",
       "  <thead>\n",
       "    <tr style=\"text-align: right;\">\n",
       "      <th></th>\n",
       "      <th>battleTime</th>\n",
       "      <th>player_tag</th>\n",
       "      <th>player_name</th>\n",
       "      <th>player_crowns</th>\n",
       "      <th>opponent_tag</th>\n",
       "      <th>opponent_name</th>\n",
       "      <th>opponent_crowns</th>\n",
       "      <th>player_bestTrophies</th>\n",
       "      <th>opponent_bestTrophies</th>\n",
       "      <th>diff_bestTrophies</th>\n",
       "      <th>diff_crowns</th>\n",
       "    </tr>\n",
       "  </thead>\n",
       "  <tbody>\n",
       "    <tr>\n",
       "      <th>2154</th>\n",
       "      <td>20200309</td>\n",
       "      <td>#8RPGUJQ9U</td>\n",
       "      <td>Alpen Gold</td>\n",
       "      <td>1</td>\n",
       "      <td>#2VC080VVV</td>\n",
       "      <td>Davidp</td>\n",
       "      <td>2</td>\n",
       "      <td>5622</td>\n",
       "      <td>6253</td>\n",
       "      <td>-631</td>\n",
       "      <td>-1</td>\n",
       "    </tr>\n",
       "    <tr>\n",
       "      <th>2145</th>\n",
       "      <td>20200326</td>\n",
       "      <td>#9YGYGVPY</td>\n",
       "      <td>Внук_Светличной</td>\n",
       "      <td>3</td>\n",
       "      <td>#Q0RV2P2Q</td>\n",
       "      <td>冰雨</td>\n",
       "      <td>1</td>\n",
       "      <td>6321</td>\n",
       "      <td>5931</td>\n",
       "      <td>390</td>\n",
       "      <td>2</td>\n",
       "    </tr>\n",
       "    <tr>\n",
       "      <th>2143</th>\n",
       "      <td>20200330</td>\n",
       "      <td>#9YGYGVPY</td>\n",
       "      <td>Внук_Светличной</td>\n",
       "      <td>1</td>\n",
       "      <td>#C0YVL8JV</td>\n",
       "      <td>&amp;(الحيران)&amp;</td>\n",
       "      <td>2</td>\n",
       "      <td>6321</td>\n",
       "      <td>6073</td>\n",
       "      <td>248</td>\n",
       "      <td>-1</td>\n",
       "    </tr>\n",
       "    <tr>\n",
       "      <th>102</th>\n",
       "      <td>20200401</td>\n",
       "      <td>#288G2Q2</td>\n",
       "      <td>Виталий</td>\n",
       "      <td>3</td>\n",
       "      <td>#P020YUJ9U</td>\n",
       "      <td>vlan1991</td>\n",
       "      <td>0</td>\n",
       "      <td>6023</td>\n",
       "      <td>5396</td>\n",
       "      <td>627</td>\n",
       "      <td>3</td>\n",
       "    </tr>\n",
       "    <tr>\n",
       "      <th>101</th>\n",
       "      <td>20200403</td>\n",
       "      <td>#288G2Q2</td>\n",
       "      <td>Виталий</td>\n",
       "      <td>2</td>\n",
       "      <td>#8YLRCJ0YU</td>\n",
       "      <td>Galaxy</td>\n",
       "      <td>1</td>\n",
       "      <td>6023</td>\n",
       "      <td>5826</td>\n",
       "      <td>197</td>\n",
       "      <td>1</td>\n",
       "    </tr>\n",
       "  </tbody>\n",
       "</table>\n",
       "</div>"
      ],
      "text/plain": [
       "     battleTime  player_tag      player_name  player_crowns opponent_tag  \\\n",
       "2154   20200309  #8RPGUJQ9U       Alpen Gold              1   #2VC080VVV   \n",
       "2145   20200326   #9YGYGVPY  Внук_Светличной              3    #Q0RV2P2Q   \n",
       "2143   20200330   #9YGYGVPY  Внук_Светличной              1    #C0YVL8JV   \n",
       "102    20200401    #288G2Q2          Виталий              3   #P020YUJ9U   \n",
       "101    20200403    #288G2Q2          Виталий              2   #8YLRCJ0YU   \n",
       "\n",
       "     opponent_name  opponent_crowns  player_bestTrophies  \\\n",
       "2154        Davidp                2                 5622   \n",
       "2145            冰雨                1                 6321   \n",
       "2143   &(الحيران)&                2                 6321   \n",
       "102       vlan1991                0                 6023   \n",
       "101         Galaxy                1                 6023   \n",
       "\n",
       "      opponent_bestTrophies  diff_bestTrophies  diff_crowns  \n",
       "2154                   6253               -631           -1  \n",
       "2145                   5931                390            2  \n",
       "2143                   6073                248           -1  \n",
       "102                    5396                627            3  \n",
       "101                    5826                197            1  "
      ]
     },
     "execution_count": 58,
     "metadata": {},
     "output_type": "execute_result"
    }
   ],
   "source": [
    "data_besrTrophies_crowns_war.head()"
   ]
  },
  {
   "cell_type": "code",
   "execution_count": 59,
   "metadata": {},
   "outputs": [
    {
     "data": {
      "image/png": "[encoded data removed]",
      "text/plain": [
       "<Figure size 864x576 with 1 Axes>"
      ]
     },
     "metadata": {
      "needs_background": "light"
     },
     "output_type": "display_data"
    }
   ],
   "source": [
    "plt.figure(figsize=(12,8))\n",
    "plt.scatter(data_besrTrophies_crowns_war.diff_bestTrophies, data_besrTrophies_crowns_war.diff_crowns)\n",
    "plt.title('crowns - besrTrophies war day')\n",
    "plt.grid()"
   ]
  },
  {
   "cell_type": "markdown",
   "metadata": {},
   "source": [
    "Здесь наблюдаем совсем другую картину - среднее diff_bestTrophies очевидно больше нуля и положительном diff_crowns и наоборот меньше нуля при отрицатьном diff_crowns, только при diff_crowns = -3 сложно сделать какие-либо выводы о положении среднего значения diff_bestTrophies."
   ]
  },
  {
   "cell_type": "markdown",
   "metadata": {},
   "source": [
    "Чтобы подтвердить полученные данные построим график зависимости доли побед игроков от diff_bestTrophies"
   ]
  },
  {
   "cell_type": "code",
   "execution_count": 65,
   "metadata": {},
   "outputs": [],
   "source": [
    "# отсортируем data_besrTrophies_crowns_war по возрастанию diff_bestTrophies\n",
    "data_besrTrophies_crowns_war = data_besrTrophies_crowns_war.sort_values(by=['diff_bestTrophies'])"
   ]
  },
  {
   "cell_type": "code",
   "execution_count": 66,
   "metadata": {},
   "outputs": [],
   "source": [
    "# функция разделяющая данные на n_split равных частей\n",
    "def make_split(data, n_split):\n",
    "    len_split = int(len(data) / n_split)\n",
    "    frame = [data.iloc[i * n_split: (i + 1) * n_split].copy() for i in range(len_split + 1)]\n",
    "    return frame"
   ]
  },
  {
   "cell_type": "code",
   "execution_count": 67,
   "metadata": {},
   "outputs": [],
   "source": [
    "from statsmodels.stats.proportion import proportion_confint\n",
    "\n",
    "# расчёт доли побед игроков и доверительного интервала (method = 'wilson')\n",
    "def calc_statistic(data):\n",
    "    data = data[['diff_bestTrophies', 'diff_crowns']]\n",
    "    if data.shape[0] == 0:\n",
    "        return (np.nan, np.nan, np.nan)\n",
    "    else:\n",
    "        res = data[(data.diff_crowns) > 0].shape[0] / data.shape[0]\n",
    "        loss = [0] * data[(data.diff_crowns) < 0].shape[0]\n",
    "        win = [1] * data[(data.diff_crowns) > 0].shape[0]\n",
    "        diff_best_trophies = (data.diff_bestTrophies.mean())\n",
    "        wilson_interval = proportion_confint(sum(win + loss), len(win + loss), method = 'wilson')\n",
    "        return (np.around(res, 2), wilson_interval[0],  wilson_interval[1], np.around(diff_best_trophies, 2))"
   ]
  },
  {
   "cell_type": "code",
   "execution_count": 69,
   "metadata": {},
   "outputs": [],
   "source": [
    "result = []               # доля побед икроков\n",
    "left = []                 # нижняя граница доверитьного интервала\n",
    "right = []                # верхняя граница доверитьного интервала\n",
    "diff_best_trophies = []   # среднее diff_bestTrophies для сплита, для отображения на графике\n",
    "\n",
    "# делим данные на 50 сплитов\n",
    "split_data = make_split(data_besrTrophies_crowns_war, 50)\n",
    "\n",
    "# рассчёт статистик\n",
    "for split in range(len(split_data)):\n",
    "    bins = calc_statistic(split_data[split])\n",
    "    result.append(bins[0])\n",
    "    left.append(bins[1])\n",
    "    right.append(bins[2])\n",
    "    diff_best_trophies.append(str(bins[3]))\n",
    "    # print('bins of diff_bestTrophies =', bins, 'players win percentage =', result[-1])"
   ]
  },
  {
   "cell_type": "code",
   "execution_count": 70,
   "metadata": {},
   "outputs": [
    {
     "data": {
      "image/png": "[encoded data removed]",
      "text/plain": [
       "<Figure size 1152x648 with 1 Axes>"
      ]
     },
     "metadata": {
      "needs_background": "light"
     },
     "output_type": "display_data"
    }
   ],
   "source": [
    "plt.figure(figsize=(16,9))\n",
    "plt.plot(diff_best_trophies, result, marker='o')   # доля побед икроков\n",
    "plt.plot(diff_best_trophies, left, marker='^')     # нижняя граница доверитьного интервала\n",
    "plt.plot(diff_best_trophies, right, marker='v')    # верхняя граница доверитьного интервала\n",
    "plt.title('players win percentage with 95% confidence interval')\n",
    "plt.xlabel('mean difference of best trophies players and opponents on interval')\n",
    "plt.ylabel('players win percentage')\n",
    "plt.legend(('proportion of wins of players',\n",
    "            'lower bound of the confidence interval',\n",
    "            'upper bound of the confidence interval'),\n",
    "            loc='upper right')\n",
    "plt.xlim((0,20))\n",
    "plt.ylim((0,1.15))\n",
    "plt.grid()"
   ]
  },
  {
   "cell_type": "markdown",
   "metadata": {},
   "source": [
    "Вывод: доля побед игроков монотонно возрастает при росте разницы besrTrophies, что мы и ожидали увидеть. Предположение о том, что разница в besrTrophies соперников влияет на исход подтверждается."
   ]
  },
  {
   "cell_type": "code",
   "execution_count": null,
   "metadata": {},
   "outputs": [],
   "source": []
  }
 ],
 "metadata": {
  "kernelspec": {
   "display_name": "Python 3",
   "language": "python",
   "name": "python3"
  },
  "language_info": {
   "codemirror_mode": {
    "name": "ipython",
    "version": 3
   },
   "file_extension": ".py",
   "mimetype": "text/x-python",
   "name": "python",
   "nbconvert_exporter": "python",
   "pygments_lexer": "ipython3",
   "version": "3.8.3"
  }
 },
 "nbformat": 4,
 "nbformat_minor": 4
}
